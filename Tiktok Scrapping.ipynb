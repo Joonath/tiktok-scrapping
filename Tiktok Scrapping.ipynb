{
 "cells": [
  {
   "cell_type": "markdown",
   "id": "05045bef",
   "metadata": {},
   "source": [
    "# Tiktok Web Scrapping\n",
    "Author: [joonath](https://github.com/joonath)\n",
    "\n",
    "Mini-project web scrapping untuk social media Tiktok. \n",
    "\n",
    "### Output\n",
    "Output dari mini-project ini adalah hasil scrapping dalam bentuk **excel (.xslx)** yang berisikan: \n",
    "- Link posting, \n",
    "- caption dari post, \n",
    "- tanggal posting lengkap untuk 30 post terbaru atau tanggal yang tersimplifikasi untuk post berikutnya"
   ]
  },
  {
   "cell_type": "markdown",
   "id": "fedcae72",
   "metadata": {},
   "source": [
    "### Import Packages\n",
    "\n",
    "- `webdriver` untuk handle WebDriver dan pembuatan _web scrapping instance_. WebDriver di projek ini memakai Edge (versi Chromium-based), Driver bisa didownload [disini](https://developer.microsoft.com/en-us/microsoft-edge/tools/webdriver/).\n",
    "- `sleep` => `sleep(n)` untuk halt eksekusi program sebanyak `n` detik\n",
    "- `datetime` untuk parsing tanggal dan waktu, kalau yang didapat formatnya epoch/timestamp\n",
    "- `json` untuk parsing `json` dari tag `<script>` TikTok (ada info seputar tanggal untuk 30 konten teratas)\n",
    "- `pandas` untuk parsing json menuju table-like data + export (dependency tambahan: `openpyxl`)\n"
   ]
  },
  {
   "cell_type": "code",
   "execution_count": 1,
   "id": "c136a837",
   "metadata": {},
   "outputs": [],
   "source": [
    "from selenium import webdriver\n",
    "from time import sleep\n",
    "import datetime\n",
    "import json\n",
    "import pandas"
   ]
  },
  {
   "cell_type": "markdown",
   "id": "100a2fe8",
   "metadata": {},
   "source": [
    "### Setting WebDriver\n",
    "- `--disable-gpu` memberitahu WebDriver untuk tidak menggunakan GPU-based processing. Argumen ini biasa dipakai kalau mau masuk ke mode `--headless`\n",
    "    * `--headless`: menjalankan scrapping tanpa tampilan browser/GUI\n",
    "- `--disable-extensions`: mematikan semua extension yang berjalan atau terinstall\n",
    "- `--no-sandbox`: menjalankan _web scrapping instance_ tanpa melalui sandboxing (untuk menyelesaikan masalah seperti access privilege untuk scrapper, dengan tradeoff keamanan minimum)\n",
    "- `--disable-notifications`: mematikan worker notification pada web yang ingin di scrap (bila ada)\n",
    "- `--suppress-message-center-popups`: mematikan popup alert/dialog box\n",
    "\n",
    "`pageLoadStrategy` [referensi](https://www.selenium.dev/selenium/docs/api/javascript/module/selenium-webdriver/lib/capabilities_exports_PageLoadStrategy.html)\n",
    "- `eager`: bisa jalan saat konten di web sudah siap untuk berinteraksi\n",
    "- `none`: bisa jalan saat web diakses\n",
    "- `normal`: bisa jalan saat semua script dan konten selesai di load (termasuk gambar)"
   ]
  },
  {
   "cell_type": "code",
   "execution_count": 2,
   "id": "1836c9ca",
   "metadata": {},
   "outputs": [],
   "source": [
    "edge = webdriver.EdgeOptions()\n",
    "edge.add_argument(\"--disable-gpu\")\n",
    "edge.add_argument(\"--disable-extensions\")\n",
    "edge.add_argument(\"--no-sandbox\")\n",
    "edge.add_argument(\"--disable-notifications\")\n",
    "edge.add_argument(\"--suppress-message-center-popups\")"
   ]
  },
  {
   "cell_type": "code",
   "execution_count": 3,
   "id": "5f0bd84b",
   "metadata": {},
   "outputs": [],
   "source": [
    "edge.capabilities[\"pageLoadStrategy\"] = \"eager\""
   ]
  },
  {
   "cell_type": "markdown",
   "id": "ea88a637",
   "metadata": {},
   "source": [
    "### Setting Driver dan Web URL Starting Point \n"
   ]
  },
  {
   "cell_type": "code",
   "execution_count": 4,
   "id": "5227aa8c",
   "metadata": {
    "scrolled": true
   },
   "outputs": [],
   "source": [
    "url = \"https://www.tiktok.com/@garyvee?lang=en\"\n",
    "\n",
    "# driver = webdriver.Edge(executable_path=\"C:\\Program Files\\edgedriver\\msedgedriver.exe\") #Pakai ini kalau WebDriver baru didownload, sesuaikan dengan path si exe\n",
    "driver = webdriver.Edge(\"msedgedriver\") #Pakai ini kalau WebDriver sudah di add ke environment path + restart\n",
    "\n",
    "driver.maximize_window() #Buka web scrapping instance dengan mode Maximized\n",
    "driver.get(url) #Buka URL di web scrapping instance"
   ]
  },
  {
   "cell_type": "markdown",
   "id": "119c847b",
   "metadata": {},
   "source": [
    "### Initialize Variable\n",
    "Variable `gabungan` nantinya akan berisi **list of dictionary** dengan key:\n",
    "- `link`, berisi URL posting\n",
    "- `caption`, berisi caption posting\n",
    "- `timestamp`, berisi tanggal posting"
   ]
  },
  {
   "cell_type": "code",
   "execution_count": 5,
   "id": "d4cef343",
   "metadata": {},
   "outputs": [],
   "source": [
    "gabungan = []"
   ]
  },
  {
   "cell_type": "markdown",
   "id": "d4df1600",
   "metadata": {},
   "source": [
    "### XPath\n",
    "XPath adalah alur path untuk mendapatkan posisi suatu elemen HTML di sebuah website yang dimulai dari elemen utama (*absolute*, tag `<html>`) atau elemen terdekat (*relative*) . Cara mendapatkan XPath:\n",
    "- Tekan F12 pada halaman website yang ingin dicari XPath nya. F12 menampilkan DevTools\n",
    "- Gunakan element finder di bagian kiri atas DevTools (pada Microsoft Edge bisa diakses dengan shortcut `Ctrl + Shift + C`), lalu klik element yang ingin di scrap pada browser\n",
    "- DevTools akan men-*highlight* tag HTML yang dipilih pada tab Elements. Klik kanan > Copy > Copy XPath"
   ]
  },
  {
   "cell_type": "code",
   "execution_count": 6,
   "id": "867f8a19",
   "metadata": {
    "scrolled": true
   },
   "outputs": [],
   "source": [
    "deret = range(10)\n",
    "\n",
    "# Main XPath\n",
    "xpath_main = \"/html/body/div[2]/div[2]/div[2]/div/div[2]/div[2]/div/*[1]\"\n",
    "el = driver.find_element(by=\"xpath\", value=xpath_main)\n",
    "\n",
    "#Tiktok: Klik konten pertama/terbaru\n",
    "el.click()\n",
    "\n",
    "\n",
    "for i in deret:\n",
    "    \n",
    "    # Caption pada Tiktok dapat berupa single element apabila tidak terdapat hashtags ataupun user tags, dan sebaliknya\n",
    "    # dapat berupa multiple elements apabila caption memiliki hashtags dan/atau user tags.\n",
    "    # Untuk mengantisipasi hal ini, maka target elemen pada caption_xpath adalah \n",
    "    # **SEMUA ELEMEN DIDALAM div @ children 1 **\n",
    "    caption_xpath = \"//*[@id=\\\"app\\\"]/div[2]/div[3]/div[2]/div[2]/div[1]/*\"\n",
    "    \n",
    "    # Karena dipastikan bisa terdapat > 1 elemen pada Caption, maka menggunakan find_elements\n",
    "    capt = driver.find_elements(by=\"xpath\", value=caption_xpath)\n",
    "    \n",
    "    # Initialize variabel caption_build untuk append text di setiap elemen yang ada di dalam variabel capt\n",
    "    caption_build = \"\"\n",
    "    for caption in capt:\n",
    "            caption_build += caption.text + \" \"\n",
    "\n",
    "\n",
    "    # Per Oktober 11, 2021. \n",
    "    # Timestamp versi lengkap untuk 30 posting pertama bisa didapat melalui tag <script id=\"SIGI_STATE\">...\n",
    "    # sementara sisanya bisa didapat dengan melakukan refresh terhadap halaman per-page.\n",
    "    # Namun karena pertimbangan durasi scrapping, maka timestamp untuk posting berikutnya menggunakan timestamp \n",
    "    # versi simplified oleh TikTok.\n",
    "    waktu_xpath = \"/html/body/div[3]/script[1]\"\n",
    "    waktu = driver.find_element(by=\"xpath\", value=waktu_xpath)\n",
    "    \n",
    "    # Setelah memastikan tag <script id=\"SIGI_STATE\"> berisi JSON, maka dibagian ini dilakukan:\n",
    "    # 1. Pengambilan seluruh isi di dalam tag tersebut\n",
    "    # 2. Melakukan parsing dari yang awalnya berupa string menjadi JSON via json.loads()\n",
    "    val = waktu.get_attribute(\"innerHTML\")\n",
    "    parsedJson = json.loads(val)\n",
    "    \n",
    "    # Mendapatkan URL di looping saat ini.\n",
    "    # Sample Tiktok posting URL: \n",
    "    # https://www.tiktok.com/@garyvee/video/7152970208108383530?is_copy_url=1&is_from_webapp=v1&lang=en\n",
    "    # 1. Pisah URL dengan delimiter '/' --> [https:, /, /, @garyvee, video,  7152970208108383530?is_copy_url=1&is_from_webapp=v1&lang=en]\n",
    "    # 2. Ambil array terakhir dan pisah lagi dengan delimiter '?' --> [7152970208108383530, is_copy_url=1&is...]\n",
    "    link = driver.current_url\n",
    "    arr = link.split(\"/\")\n",
    "    terakhir = str(arr[-1]).split(\"?\")    \n",
    "\n",
    "    # XPath alternative timestamp untuk posting ke-31 dan seterusnya \n",
    "    alternative_crtime = \"//*[@id=\\\"app\\\"]/div[2]/div[3]/div[2]/div[1]/a[2]/span[2]/span[2]\"\n",
    "    crtime = \"\"\n",
    "    \n",
    "    # Try Catch apabila JSON di 30 item pertama sudah habis\n",
    "    try:\n",
    "        # Pakai timestamp lengkap kalau ada di JSON\n",
    "        crtime = datetime.datetime.fromtimestamp( int(parsedJson[\"ItemModule\"][terakhir[0]][\"createTime\"]))\n",
    "    except KeyError:\n",
    "        # Pakai timestamp tersimplifikasi kalau tidak ada di JSON\n",
    "        crtime = driver.find_element(by = \"xpath\", value = alternative_crtime).text\n",
    "        \n",
    "    # Append hasil menuju gabungan\n",
    "    gabungan.append({\n",
    "        \"link\": driver.current_url,\n",
    "        \"caption\": caption_build,\n",
    "        \"timestamp\": str(crtime)\n",
    "    })\n",
    "\n",
    "    # Cari tombol Next, lalu trigger klik\n",
    "    next_button = \"//*[@id=\\\"app\\\"]/div[2]/div[3]/div[1]/button[3]\"\n",
    "    nextBtn = driver.find_element(by=\"xpath\", value=next_button)\n",
    "    nextBtn.click()\n",
    "    \n",
    "    # Halt process selama 1 detik agar browser bisa mendapatkan waktu untuk loading\n",
    "    sleep(1)"
   ]
  },
  {
   "cell_type": "markdown",
   "id": "51ce9a6a",
   "metadata": {},
   "source": [
    "### Export ke Excel\n",
    "Untuk export ke dalam file excel, digunakan `pandas` dengan melakukan parsing list of dictionary kedalam bentuk `DataFrame` "
   ]
  },
  {
   "cell_type": "code",
   "execution_count": 7,
   "id": "0668fab4",
   "metadata": {},
   "outputs": [],
   "source": [
    "dfnya = pandas.DataFrame(gabungan)"
   ]
  },
  {
   "cell_type": "code",
   "execution_count": 8,
   "id": "d643708a",
   "metadata": {},
   "outputs": [
    {
     "data": {
      "text/html": [
       "<div>\n",
       "<style scoped>\n",
       "    .dataframe tbody tr th:only-of-type {\n",
       "        vertical-align: middle;\n",
       "    }\n",
       "\n",
       "    .dataframe tbody tr th {\n",
       "        vertical-align: top;\n",
       "    }\n",
       "\n",
       "    .dataframe thead th {\n",
       "        text-align: right;\n",
       "    }\n",
       "</style>\n",
       "<table border=\"1\" class=\"dataframe\">\n",
       "  <thead>\n",
       "    <tr style=\"text-align: right;\">\n",
       "      <th></th>\n",
       "      <th>link</th>\n",
       "      <th>caption</th>\n",
       "      <th>timestamp</th>\n",
       "    </tr>\n",
       "  </thead>\n",
       "  <tbody>\n",
       "    <tr>\n",
       "      <th>0</th>\n",
       "      <td>https://www.tiktok.com/@garyvee/video/71532355...</td>\n",
       "      <td>Less thinking 🤔 and more making … todays morni...</td>\n",
       "      <td>2022-10-11 19:47:39</td>\n",
       "    </tr>\n",
       "    <tr>\n",
       "      <th>1</th>\n",
       "      <td>https://www.tiktok.com/@garyvee/video/71530370...</td>\n",
       "      <td>Some thoughts on the changing landscape of soc...</td>\n",
       "      <td>2022-10-11 06:57:03</td>\n",
       "    </tr>\n",
       "    <tr>\n",
       "      <th>2</th>\n",
       "      <td>https://www.tiktok.com/@garyvee/video/71529702...</td>\n",
       "      <td>Chase the thing that you love, people don’t be...</td>\n",
       "      <td>2022-10-11 02:37:51</td>\n",
       "    </tr>\n",
       "    <tr>\n",
       "      <th>3</th>\n",
       "      <td>https://www.tiktok.com/@garyvee/video/71528715...</td>\n",
       "      <td>Simple … for so many of you .. it’s time for y...</td>\n",
       "      <td>2022-10-10 20:15:11</td>\n",
       "    </tr>\n",
       "    <tr>\n",
       "      <th>4</th>\n",
       "      <td>https://www.tiktok.com/@garyvee/video/71526487...</td>\n",
       "      <td>Backseat seatbelts scare so few yet sharks 🦈 s...</td>\n",
       "      <td>2022-10-10 05:50:18</td>\n",
       "    </tr>\n",
       "    <tr>\n",
       "      <th>5</th>\n",
       "      <td>https://www.tiktok.com/@garyvee/video/71525113...</td>\n",
       "      <td>As many of you try to build your channel, your...</td>\n",
       "      <td>2022-10-09 20:57:24</td>\n",
       "    </tr>\n",
       "    <tr>\n",
       "      <th>6</th>\n",
       "      <td>https://www.tiktok.com/@garyvee/video/71523469...</td>\n",
       "      <td>2 things … this video really matters to all of...</td>\n",
       "      <td>2022-10-09 10:19:04</td>\n",
       "    </tr>\n",
       "    <tr>\n",
       "      <th>7</th>\n",
       "      <td>https://www.tiktok.com/@garyvee/video/71522660...</td>\n",
       "      <td>Luckily we didn’t find shit 💩 this day anyway ...</td>\n",
       "      <td>2022-10-09 05:05:08</td>\n",
       "    </tr>\n",
       "    <tr>\n",
       "      <th>8</th>\n",
       "      <td>https://www.tiktok.com/@garyvee/video/71521855...</td>\n",
       "      <td>Tiktok a lot of you are going into this job wo...</td>\n",
       "      <td>2022-10-08 23:52:53</td>\n",
       "    </tr>\n",
       "    <tr>\n",
       "      <th>9</th>\n",
       "      <td>https://www.tiktok.com/@garyvee/video/71521241...</td>\n",
       "      <td>Tiktok if you see me in the “wild” make sure y...</td>\n",
       "      <td>2022-10-08 19:55:03</td>\n",
       "    </tr>\n",
       "  </tbody>\n",
       "</table>\n",
       "</div>"
      ],
      "text/plain": [
       "                                                link  \\\n",
       "0  https://www.tiktok.com/@garyvee/video/71532355...   \n",
       "1  https://www.tiktok.com/@garyvee/video/71530370...   \n",
       "2  https://www.tiktok.com/@garyvee/video/71529702...   \n",
       "3  https://www.tiktok.com/@garyvee/video/71528715...   \n",
       "4  https://www.tiktok.com/@garyvee/video/71526487...   \n",
       "5  https://www.tiktok.com/@garyvee/video/71525113...   \n",
       "6  https://www.tiktok.com/@garyvee/video/71523469...   \n",
       "7  https://www.tiktok.com/@garyvee/video/71522660...   \n",
       "8  https://www.tiktok.com/@garyvee/video/71521855...   \n",
       "9  https://www.tiktok.com/@garyvee/video/71521241...   \n",
       "\n",
       "                                             caption            timestamp  \n",
       "0  Less thinking 🤔 and more making … todays morni...  2022-10-11 19:47:39  \n",
       "1  Some thoughts on the changing landscape of soc...  2022-10-11 06:57:03  \n",
       "2  Chase the thing that you love, people don’t be...  2022-10-11 02:37:51  \n",
       "3  Simple … for so many of you .. it’s time for y...  2022-10-10 20:15:11  \n",
       "4  Backseat seatbelts scare so few yet sharks 🦈 s...  2022-10-10 05:50:18  \n",
       "5  As many of you try to build your channel, your...  2022-10-09 20:57:24  \n",
       "6  2 things … this video really matters to all of...  2022-10-09 10:19:04  \n",
       "7  Luckily we didn’t find shit 💩 this day anyway ...  2022-10-09 05:05:08  \n",
       "8  Tiktok a lot of you are going into this job wo...  2022-10-08 23:52:53  \n",
       "9  Tiktok if you see me in the “wild” make sure y...  2022-10-08 19:55:03  "
      ]
     },
     "execution_count": 8,
     "metadata": {},
     "output_type": "execute_result"
    }
   ],
   "source": [
    "dfnya"
   ]
  },
  {
   "cell_type": "code",
   "execution_count": 9,
   "id": "b6d5aebc",
   "metadata": {
    "scrolled": false
   },
   "outputs": [],
   "source": [
    "with pandas.ExcelWriter(\"output.xlsx\") as writer:\n",
    "    dfnya.to_excel(writer, sheet_name='welcome', index=False)\n"
   ]
  },
  {
   "cell_type": "code",
   "execution_count": 10,
   "id": "f6c230b1",
   "metadata": {},
   "outputs": [],
   "source": [
    "driver.quit()"
   ]
  }
 ],
 "metadata": {
  "kernelspec": {
   "display_name": "Python 3 (ipykernel)",
   "language": "python",
   "name": "python3"
  },
  "language_info": {
   "codemirror_mode": {
    "name": "ipython",
    "version": 3
   },
   "file_extension": ".py",
   "mimetype": "text/x-python",
   "name": "python",
   "nbconvert_exporter": "python",
   "pygments_lexer": "ipython3",
   "version": "3.10.7"
  }
 },
 "nbformat": 4,
 "nbformat_minor": 5
}
